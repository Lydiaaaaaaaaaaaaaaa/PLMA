{
  "nbformat": 4,
  "nbformat_minor": 0,
  "metadata": {
    "colab": {
      "provenance": []
    },
    "kernelspec": {
      "name": "python3",
      "display_name": "Python 3"
    },
    "language_info": {
      "name": "python"
    }
  },
  "cells": [
    {
      "cell_type": "code",
      "execution_count": null,
      "metadata": {
        "id": "kJMZVS7Te1KN",
        "colab": {
          "base_uri": "https://localhost:8080/"
        },
        "outputId": "42aa6142-9008-49ac-bfe5-d1b7c3879d11"
      },
      "outputs": [
        {
          "output_type": "stream",
          "name": "stdout",
          "text": [
            "平均作業分數 88.33333333333333\n",
            "{'學號': 'M1129020', '姓名': '賴宏瑋', '性別': '男'}\n",
            "平均作業分數 95.0\n",
            "{'學號': 'M1229001', '姓名': '許珈綺', '性別': '女'}\n"
          ]
        }
      ],
      "source": [
        "a={'姓名':'賴宏瑋','性別':'男','作業分數':[95,100,90]}\n",
        "b={'學號':'M1129020'}\n",
        "c={**b,**a}\n",
        "import copy\n",
        "d=copy.deepcopy(c)\n",
        "c['作業分數'][1]=80\n",
        "d['姓名']='許珈綺'\n",
        "d['性別']='女'\n",
        "d['學號']='M1229001'\n",
        "\n",
        "e=c.pop('作業分數')\n",
        "f=sum(e)/len(e)\n",
        "print('平均作業分數',f)\n",
        "print(c)\n",
        "\n",
        "g=d.pop('作業分數')\n",
        "h=sum(g)/len(g)\n",
        "print('平均作業分數',h)\n",
        "print(d)"
      ]
    },
    {
      "cell_type": "code",
      "source": [
        "a=[100,50,45,60,90,95,80,50]\n",
        "a.insert(0,88)\n",
        "a[2:5]=[70,50]\n",
        "a.remove(50)\n",
        "b=a.pop(0)\n",
        "c=a.pop(-1)\n",
        "print(b+c)"
      ],
      "metadata": {
        "colab": {
          "base_uri": "https://localhost:8080/"
        },
        "id": "yhTyflbtoGNG",
        "outputId": "288283ba-aa31-4692-a632-6caa7cea0a67"
      },
      "execution_count": 46,
      "outputs": [
        {
          "output_type": "stream",
          "name": "stdout",
          "text": [
            "138\n"
          ]
        }
      ]
    },
    {
      "cell_type": "code",
      "source": [
        "A=347//3\n",
        "B=347%3\n",
        "print('商',A)\n",
        "print('餘數',B)\n",
        "print(A**B)"
      ],
      "metadata": {
        "colab": {
          "base_uri": "https://localhost:8080/"
        },
        "id": "1ZFdyXm4rZSm",
        "outputId": "6041f928-44cf-4bad-c3b6-bd5a5dc78706"
      },
      "execution_count": null,
      "outputs": [
        {
          "output_type": "stream",
          "name": "stdout",
          "text": [
            "商 115\n",
            "餘數 2\n",
            "13225\n"
          ]
        }
      ]
    }
  ]
}