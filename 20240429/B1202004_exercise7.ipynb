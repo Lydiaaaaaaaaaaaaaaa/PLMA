{
  "nbformat": 4,
  "nbformat_minor": 0,
  "metadata": {
    "colab": {
      "provenance": []
    },
    "kernelspec": {
      "name": "python3",
      "display_name": "Python 3"
    },
    "language_info": {
      "name": "python"
    }
  },
  "cells": [
    {
      "cell_type": "code",
      "execution_count": 9,
      "metadata": {
        "id": "8cXfOkypuW7A",
        "colab": {
          "base_uri": "https://localhost:8080/"
        },
        "outputId": "9c21cb2d-534f-44dd-870b-4e651bd6a892"
      },
      "outputs": [
        {
          "output_type": "stream",
          "name": "stdout",
          "text": [
            "聖誕樹層數：9\n",
            "         *\n",
            "        ***\n",
            "       *****\n",
            "      *******\n",
            "     *********\n",
            "    ***********\n",
            "   *************\n",
            "  ***************\n",
            " *****************\n",
            "        ***\n",
            "        ***\n",
            "        ***\n",
            "        ***\n",
            "        ***\n"
          ]
        }
      ],
      "source": [
        "def tree(height):\n",
        "  for i in range(height):\n",
        "   print((' '*(height-i)+('*')*((2*i)+1)))\n",
        "  for i in range(5):\n",
        "   print(' ' * (height-1)+ '***')\n",
        "\n",
        "height = int(input(\"聖誕樹層數：\"))\n",
        "tree(height)"
      ]
    },
    {
      "cell_type": "code",
      "source": [
        "try:\n",
        "  height = float(input(\"請輸入你的身高（cm）：\"))\n",
        "  weight = float(input(\"請輸入你的体重（kg）：\"))\n",
        "except ValueError:\n",
        "  print(\"輸入內容錯誤\")\n",
        "  exit()\n",
        "\n",
        "def BMI(height,weight):\n",
        "  height=height/100\n",
        "  height*=height\n",
        "  weighttt=weight\n",
        "  BMI=weighttt/height\n",
        "  return BMI\n",
        "\n",
        "def cal_BMI(BMI):\n",
        "  if BMI<18.5:\n",
        "    return \"體位:過輕\"\n",
        "  elif BMI>=18.5 and BMI<24:\n",
        "    return \"體位:適中\"\n",
        "  elif BMI>=24 and BMI<27:\n",
        "    return \"體位:過重\"\n",
        "  else:\n",
        "    return \"體位:肥胖\"\n",
        "\n",
        "try:\n",
        "  bmi = BMI(height,weight)\n",
        "  calculate=cal_BMI(bmi)\n",
        "  print(\"BMI:\",bmi)\n",
        "  print(calculate)\n",
        "except:\n",
        "  exit()"
      ],
      "metadata": {
        "id": "wLdN15HKurru",
        "colab": {
          "base_uri": "https://localhost:8080/"
        },
        "outputId": "6dda1efb-9841-428b-8a5d-9fca0cafdf19"
      },
      "execution_count": 1,
      "outputs": [
        {
          "output_type": "stream",
          "name": "stdout",
          "text": [
            "請輸入你的身高（cm）：161\n",
            "請輸入你的体重（kg）：54\n",
            "BMI: 20.832529609197174\n",
            "體位:適中\n"
          ]
        }
      ]
    }
  ]
}