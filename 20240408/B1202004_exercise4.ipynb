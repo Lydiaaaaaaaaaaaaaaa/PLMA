{
  "nbformat": 4,
  "nbformat_minor": 0,
  "metadata": {
    "colab": {
      "provenance": []
    },
    "kernelspec": {
      "name": "python3",
      "display_name": "Python 3"
    },
    "language_info": {
      "name": "python"
    }
  },
  "cells": [
    {
      "cell_type": "code",
      "source": [
        "height = float(input(\"請輸入你的身高（cm）：\"))\n",
        "weight = float(input(\"請輸入你的体重（kg）：\"))\n",
        "\n",
        "height=height/100\n",
        "height*=height\n",
        "BMI=weight/height\n",
        "\n",
        "print(\"BMI：\", BMI)\n",
        "\n",
        "if BMI<18.5:\n",
        "  print('體位:過輕')\n",
        "elif BMI>=18.5 and BMI<24:\n",
        "  print('體位:適中')\n",
        "elif BMI>=24 and BMI<27:\n",
        "  print('體位:過重')\n",
        "else:\n",
        "  print('體位:肥胖')"
      ],
      "metadata": {
        "id": "pPziTkKCtEF9",
        "colab": {
          "base_uri": "https://localhost:8080/"
        },
        "outputId": "c0d9d89f-d8b7-4270-c52c-1d4aad0487e2"
      },
      "execution_count": 9,
      "outputs": [
        {
          "output_type": "stream",
          "name": "stdout",
          "text": [
            "請輸入你的身高（cm）：161\n",
            "請輸入你的体重（kg）：52.5\n",
            "BMI： 20.253848231163918\n",
            "體位:適中\n"
          ]
        }
      ]
    },
    {
      "cell_type": "code",
      "source": [
        "a = float(input(\"請輸入第一個數字：\"))\n",
        "b = input(\"請輸入運算符號：\")\n",
        "c = float(input(\"請輸入第二個數字：\"))\n",
        "\n",
        "if b==\"+\":\n",
        "  print(a+c)\n",
        "elif b==\"-\":\n",
        "  print(a-c)\n",
        "elif b==\"*\":\n",
        "  print(a*c)\n",
        "else:\n",
        "  print(a/c)\n"
      ],
      "metadata": {
        "id": "YCzMLfLNlMBx",
        "colab": {
          "base_uri": "https://localhost:8080/"
        },
        "outputId": "9270d3d7-bd57-41c6-a6a3-444f3d262f92"
      },
      "execution_count": 17,
      "outputs": [
        {
          "output_type": "stream",
          "name": "stdout",
          "text": [
            "請輸入第一個數字：2\n",
            "請輸入運算符號：+\n",
            "請輸入第二個數字：3\n",
            "5.0\n"
          ]
        }
      ]
    }
  ]
}