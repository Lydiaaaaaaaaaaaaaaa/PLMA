{
  "nbformat": 4,
  "nbformat_minor": 0,
  "metadata": {
    "colab": {
      "provenance": []
    },
    "kernelspec": {
      "name": "python3",
      "display_name": "Python 3"
    },
    "language_info": {
      "name": "python"
    }
  },
  "cells": [
    {
      "cell_type": "code",
      "execution_count": 24,
      "metadata": {
        "colab": {
          "base_uri": "https://localhost:8080/"
        },
        "id": "tVUsU4jIciT8",
        "outputId": "2a25aaa5-3bad-44bf-fddc-3b256ebae6d1"
      },
      "outputs": [
        {
          "output_type": "stream",
          "name": "stdout",
          "text": [
            "請輸入年份2400\n",
            "閏年\n"
          ]
        }
      ],
      "source": [
        "a=int(input(\"請輸入年份\"))\n",
        "if a<=1582:\n",
        "  if a%4==0:\n",
        "    print('閏年')\n",
        "  else:\n",
        "    print('平年')\n",
        "else:\n",
        "  if a%4==0:\n",
        "    if a%400==0:\n",
        "     print('閏年')\n",
        "    elif a%100==0:\n",
        "     print('平年')\n",
        "  else:\n",
        "    print('平年')"
      ]
    }
  ]
}