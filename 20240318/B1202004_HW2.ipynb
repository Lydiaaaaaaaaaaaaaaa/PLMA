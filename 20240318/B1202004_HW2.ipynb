{
  "nbformat": 4,
  "nbformat_minor": 0,
  "metadata": {
    "colab": {
      "provenance": []
    },
    "kernelspec": {
      "name": "python3",
      "display_name": "Python 3"
    },
    "language_info": {
      "name": "python"
    }
  },
  "cells": [
    {
      "cell_type": "code",
      "execution_count": null,
      "metadata": {
        "colab": {
          "base_uri": "https://localhost:8080/"
        },
        "id": "NUWkaL-weqqR",
        "outputId": "0d097f97-dfcc-4f88-d3f0-672611e3496f"
      },
      "outputs": [
        {
          "output_type": "stream",
          "name": "stdout",
          "text": [
            "A\n",
            "['K', 'H', 'U']\n"
          ]
        }
      ],
      "source": [
        "a='C,B,A'\n",
        "b=['F','G','H']\n",
        "\n",
        "c=a.split(',')\n",
        "d=c+b\n",
        "d[0]='K'\n",
        "e=d.pop(2)\n",
        "print(e)\n",
        "\n",
        "f=list(d)\n",
        "del f[1:4]\n",
        "f.extend('U')\n",
        "print(f)\n",
        "\n"
      ]
    },
    {
      "cell_type": "code",
      "source": [
        "a=input('請輸入一個八位數的數字：')\n",
        "b=str(a)\n",
        "print(b[4])"
      ],
      "metadata": {
        "id": "KgNTT3Qhke1P",
        "colab": {
          "base_uri": "https://localhost:8080/"
        },
        "outputId": "14ec5bea-5a47-4120-dd2f-08bd5e3d267c"
      },
      "execution_count": null,
      "outputs": [
        {
          "output_type": "stream",
          "name": "stdout",
          "text": [
            "請輸入一個八位數的數字：98765432\n",
            "5\n"
          ]
        }
      ]
    },
    {
      "cell_type": "code",
      "source": [
        "a='My ID is B1202004'\n",
        "b=a.split(' ')\n",
        "print('此字串共有',len(b),'個字')\n",
        "\n",
        "c=(a[9:])\n",
        "print('此ID有',len(c),'個元素')"
      ],
      "metadata": {
        "colab": {
          "base_uri": "https://localhost:8080/"
        },
        "id": "HZbEI8kt_gHO",
        "outputId": "8aa52382-2fee-4f45-d739-c99f29db8774"
      },
      "execution_count": null,
      "outputs": [
        {
          "output_type": "stream",
          "name": "stdout",
          "text": [
            "此字串共有 4 個字\n",
            "此ID有 8 個元素\n"
          ]
        }
      ]
    },
    {
      "cell_type": "code",
      "source": [
        "a=\"I'm a student\"\n",
        "b=a.split(' ')\n",
        "\n",
        "print(b[0][2])"
      ],
      "metadata": {
        "colab": {
          "base_uri": "https://localhost:8080/"
        },
        "id": "_cAqb-0FDB0v",
        "outputId": "740a5c08-a09d-4bea-981c-0b424244644b"
      },
      "execution_count": null,
      "outputs": [
        {
          "output_type": "stream",
          "name": "stdout",
          "text": [
            "m\n"
          ]
        }
      ]
    }
  ]
}