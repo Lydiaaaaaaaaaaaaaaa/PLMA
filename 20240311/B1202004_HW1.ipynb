{
  "nbformat": 4,
  "nbformat_minor": 0,
  "metadata": {
    "colab": {
      "provenance": []
    },
    "kernelspec": {
      "name": "python3",
      "display_name": "Python 3"
    },
    "language_info": {
      "name": "python"
    }
  },
  "cells": [
    {
      "cell_type": "code",
      "execution_count": null,
      "metadata": {
        "colab": {
          "base_uri": "https://localhost:8080/"
        },
        "id": "IVvyBL0PgBnW",
        "outputId": "45bf296d-3b59-4bc4-f17e-ac873fb80dfc"
      },
      "outputs": [
        {
          "output_type": "stream",
          "name": "stdout",
          "text": [
            "I'm a student\n"
          ]
        }
      ],
      "source": [
        "a=\"I'm a student\"\n",
        "print(a)"
      ]
    },
    {
      "cell_type": "code",
      "source": [
        "x1=float(input(\"請輸入座標A(x1,y1)的x1值\"))\n",
        "y1=float(input(\"請輸入座標A(x1,y1)的y1值\"))\n",
        "x2=float(input(\"請輸入座標B(x2,y2)的x2值\"))\n",
        "y2=float(input(\"請輸入座標B(x2,y2)的y2值\"))\n",
        "\n",
        "AB間的距離=((x2-x1)**2+(y2-y1)**2)**0.5\n",
        "\n",
        "print(\"AB間的距離：\", AB間的距離)"
      ],
      "metadata": {
        "colab": {
          "base_uri": "https://localhost:8080/"
        },
        "id": "EpwnlnEHg1P_",
        "outputId": "3efefcad-e3b4-4c27-c75c-52bca318fdd7"
      },
      "execution_count": null,
      "outputs": [
        {
          "output_type": "stream",
          "name": "stdout",
          "text": [
            "請輸入座標A(x1,y1)的x1值6\n",
            "請輸入座標A(x1,y1)的y1值8\n",
            "請輸入座標B(x2,y2)的x2值0\n",
            "請輸入座標B(x2,y2)的y2值0\n",
            "AB間的距離： 10.0\n"
          ]
        }
      ]
    },
    {
      "cell_type": "code",
      "source": [
        "height = float(input(\"請輸入你的身高（cm）：\"))\n",
        "weight = float(input(\"請輸入你的体重（kg）：\"))\n",
        "\n",
        "height=height/100\n",
        "height*=height\n",
        "BMI=weight/height\n",
        "\n",
        "print(\"您的BMI指数：\", BMI)"
      ],
      "metadata": {
        "colab": {
          "base_uri": "https://localhost:8080/"
        },
        "id": "pPziTkKCtEF9",
        "outputId": "30970cbe-221c-4bfe-a38c-08959fec2c85"
      },
      "execution_count": 2,
      "outputs": [
        {
          "output_type": "stream",
          "name": "stdout",
          "text": [
            "請輸入你的身高（cm）：161\n",
            "請輸入你的体重（kg）：52.5\n",
            "您的BMI指数： 20.253848231163918\n"
          ]
        }
      ]
    }
  ]
}